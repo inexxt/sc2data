{
 "cells": [
  {
   "cell_type": "code",
   "execution_count": 146,
   "metadata": {
    "collapsed": true
   },
   "outputs": [],
   "source": [
    "%matplotlib inline\n",
    "from glob import glob\n",
    "from tqdm import tqdm\n",
    "import requests\n",
    "from os import listdir\n",
    "import json\n",
    "import pandas as pd\n",
    "import os.path\n",
    "import seaborn as sns"
   ]
  },
  {
   "cell_type": "code",
   "execution_count": 3,
   "metadata": {
    "collapsed": true
   },
   "outputs": [],
   "source": [
    "meta_path = \"/home/jack/datasets/ggtracker/matches_6555_sampled_meta/\""
   ]
  },
  {
   "cell_type": "code",
   "execution_count": 118,
   "metadata": {
    "collapsed": false
   },
   "outputs": [
    {
     "name": "stderr",
     "output_type": "stream",
     "text": []
    }
   ],
   "source": [
    "names = listdir(meta_path)\n",
    "data = []\n",
    "for name in tqdm(names):\n",
    "    with open(meta_path+name, \"r\") as f:\n",
    "        match_data = json.load(f)\n",
    "        if len(match_data.get(\"entities\", [])) == 2:\n",
    "            match_data[\"game_name\"] = name\n",
    "            match_data[\"race1\"] = match_data[\"entities\"][0][\"race\"]\n",
    "            match_data[\"race2\"] = match_data[\"entities\"][1][\"race\"]\n",
    "            data.append(match_data)"
   ]
  },
  {
   "cell_type": "code",
   "execution_count": 100,
   "metadata": {
    "collapsed": false
   },
   "outputs": [
    {
     "data": {
      "text/plain": [
       "'Z'"
      ]
     },
     "execution_count": 100,
     "metadata": {},
     "output_type": "execute_result"
    }
   ],
   "source": [
    "data[0][\"entities\"][1][\"race\"]"
   ]
  },
  {
   "cell_type": "code",
   "execution_count": 142,
   "metadata": {
    "collapsed": false
   },
   "outputs": [],
   "source": [
    "df_data = pd.DataFrame(data)"
   ]
  },
  {
   "cell_type": "code",
   "execution_count": 102,
   "metadata": {
    "collapsed": false
   },
   "outputs": [
    {
     "data": {
      "text/html": [
       "<div>\n",
       "<table border=\"1\" class=\"dataframe\">\n",
       "  <thead>\n",
       "    <tr style=\"text-align: right;\">\n",
       "      <th></th>\n",
       "      <th>average_league</th>\n",
       "      <th>category</th>\n",
       "      <th>cobrand</th>\n",
       "      <th>duration_seconds</th>\n",
       "      <th>ended_at</th>\n",
       "      <th>entities</th>\n",
       "      <th>expansion</th>\n",
       "      <th>game_name</th>\n",
       "      <th>game_type</th>\n",
       "      <th>id</th>\n",
       "      <th>map</th>\n",
       "      <th>map_name</th>\n",
       "      <th>map_url</th>\n",
       "      <th>race1</th>\n",
       "      <th>release_string</th>\n",
       "      <th>replays</th>\n",
       "      <th>replays_count</th>\n",
       "      <th>summaries_count</th>\n",
       "      <th>winning_team</th>\n",
       "    </tr>\n",
       "  </thead>\n",
       "  <tbody>\n",
       "    <tr>\n",
       "      <th>0</th>\n",
       "      <td>3.0</td>\n",
       "      <td>Ladder</td>\n",
       "      <td>NaN</td>\n",
       "      <td>912</td>\n",
       "      <td>2013-07-21T21:31:20+00:00</td>\n",
       "      <td>[{'max_creep_spread': None, 'color': 'B4141E',...</td>\n",
       "      <td>1</td>\n",
       "      <td>3730202.json</td>\n",
       "      <td>1v1</td>\n",
       "      <td>3730202</td>\n",
       "      <td>{'image_scale': 0.746268656716418, 'id': 1739,...</td>\n",
       "      <td>Neo Planet S LE</td>\n",
       "      <td>https://gg2-mi-dev.s3.amazonaws.com/neo_planet...</td>\n",
       "      <td>Z</td>\n",
       "      <td>2.0.9.26147</td>\n",
       "      <td>[{'md5': '0d89f4564a2832c6db1568204b738237', '...</td>\n",
       "      <td>1</td>\n",
       "      <td>0</td>\n",
       "      <td>2</td>\n",
       "    </tr>\n",
       "    <tr>\n",
       "      <th>1</th>\n",
       "      <td>5.0</td>\n",
       "      <td>Ladder</td>\n",
       "      <td>NaN</td>\n",
       "      <td>1062</td>\n",
       "      <td>2013-04-19T16:52:17+00:00</td>\n",
       "      <td>[{'max_creep_spread': None, 'color': 'B4141E',...</td>\n",
       "      <td>1</td>\n",
       "      <td>2840202.json</td>\n",
       "      <td>1v1</td>\n",
       "      <td>2840202</td>\n",
       "      <td>{'image_scale': 0.806451612903226, 'id': 1634,...</td>\n",
       "      <td>Newkirk Precinct</td>\n",
       "      <td>https://gg2-mi-dev.s3.amazonaws.com/newkirk_pr...</td>\n",
       "      <td>P</td>\n",
       "      <td>2.0.7.25293</td>\n",
       "      <td>[{'md5': '077b724892c023394b1b9d41c90f7945', '...</td>\n",
       "      <td>1</td>\n",
       "      <td>0</td>\n",
       "      <td>2</td>\n",
       "    </tr>\n",
       "    <tr>\n",
       "      <th>2</th>\n",
       "      <td>1.0</td>\n",
       "      <td>Public</td>\n",
       "      <td>NaN</td>\n",
       "      <td>1576</td>\n",
       "      <td>2014-08-20T17:06:05+00:00</td>\n",
       "      <td>[{'max_creep_spread': None, 'color': '1CA7EA',...</td>\n",
       "      <td>1</td>\n",
       "      <td>5358202.json</td>\n",
       "      <td>1v1</td>\n",
       "      <td>5358202</td>\n",
       "      <td>{'image_scale': 0.694444444444444, 'id': 4855,...</td>\n",
       "      <td>Overgrowth LE</td>\n",
       "      <td>https://gg2-mi-dev.s3.amazonaws.com/overgrowth...</td>\n",
       "      <td>P</td>\n",
       "      <td>2.1.3.30508</td>\n",
       "      <td>[{'md5': '088fe6d663b49cd59694bd8e2c71f6b6', '...</td>\n",
       "      <td>1</td>\n",
       "      <td>0</td>\n",
       "      <td>2</td>\n",
       "    </tr>\n",
       "    <tr>\n",
       "      <th>3</th>\n",
       "      <td>1.0</td>\n",
       "      <td>Ladder</td>\n",
       "      <td>NaN</td>\n",
       "      <td>721</td>\n",
       "      <td>2014-11-11T07:50:42+00:00</td>\n",
       "      <td>[{'max_creep_spread': None, 'color': 'B4141E',...</td>\n",
       "      <td>1</td>\n",
       "      <td>5584202.json</td>\n",
       "      <td>1v1</td>\n",
       "      <td>5584202</td>\n",
       "      <td>{'image_scale': 0.704225352112676, 'id': 5578,...</td>\n",
       "      <td>Ohana LE</td>\n",
       "      <td>https://gg2-mi-dev.s3.amazonaws.com/ohana_le.jpg</td>\n",
       "      <td>Z</td>\n",
       "      <td>2.1.6.32540</td>\n",
       "      <td>[{'md5': 'e5fc31a3445a6a0c8bd463ee1d59b404', '...</td>\n",
       "      <td>1</td>\n",
       "      <td>0</td>\n",
       "      <td>2</td>\n",
       "    </tr>\n",
       "    <tr>\n",
       "      <th>4</th>\n",
       "      <td>1.0</td>\n",
       "      <td>Ladder</td>\n",
       "      <td>NaN</td>\n",
       "      <td>10</td>\n",
       "      <td>2016-03-12T00:46:05+00:00</td>\n",
       "      <td>[{'max_creep_spread': None, 'color': 'B4141E',...</td>\n",
       "      <td>2</td>\n",
       "      <td>6527202.json</td>\n",
       "      <td>1v1</td>\n",
       "      <td>6527202</td>\n",
       "      <td>{'image_scale': -5.16592012551525e-08, 'id': 7...</td>\n",
       "      <td>Dusk Towers</td>\n",
       "      <td>None</td>\n",
       "      <td>P</td>\n",
       "      <td>3.1.4.41219</td>\n",
       "      <td>[{'md5': '7f927d84a785988def0c997ee2b2a160', '...</td>\n",
       "      <td>2</td>\n",
       "      <td>0</td>\n",
       "      <td>1</td>\n",
       "    </tr>\n",
       "  </tbody>\n",
       "</table>\n",
       "</div>"
      ],
      "text/plain": [
       "   average_league category  cobrand  duration_seconds  \\\n",
       "0             3.0   Ladder      NaN               912   \n",
       "1             5.0   Ladder      NaN              1062   \n",
       "2             1.0   Public      NaN              1576   \n",
       "3             1.0   Ladder      NaN               721   \n",
       "4             1.0   Ladder      NaN                10   \n",
       "\n",
       "                    ended_at  \\\n",
       "0  2013-07-21T21:31:20+00:00   \n",
       "1  2013-04-19T16:52:17+00:00   \n",
       "2  2014-08-20T17:06:05+00:00   \n",
       "3  2014-11-11T07:50:42+00:00   \n",
       "4  2016-03-12T00:46:05+00:00   \n",
       "\n",
       "                                            entities  expansion     game_name  \\\n",
       "0  [{'max_creep_spread': None, 'color': 'B4141E',...          1  3730202.json   \n",
       "1  [{'max_creep_spread': None, 'color': 'B4141E',...          1  2840202.json   \n",
       "2  [{'max_creep_spread': None, 'color': '1CA7EA',...          1  5358202.json   \n",
       "3  [{'max_creep_spread': None, 'color': 'B4141E',...          1  5584202.json   \n",
       "4  [{'max_creep_spread': None, 'color': 'B4141E',...          2  6527202.json   \n",
       "\n",
       "  game_type       id                                                map  \\\n",
       "0       1v1  3730202  {'image_scale': 0.746268656716418, 'id': 1739,...   \n",
       "1       1v1  2840202  {'image_scale': 0.806451612903226, 'id': 1634,...   \n",
       "2       1v1  5358202  {'image_scale': 0.694444444444444, 'id': 4855,...   \n",
       "3       1v1  5584202  {'image_scale': 0.704225352112676, 'id': 5578,...   \n",
       "4       1v1  6527202  {'image_scale': -5.16592012551525e-08, 'id': 7...   \n",
       "\n",
       "           map_name                                            map_url race1  \\\n",
       "0   Neo Planet S LE  https://gg2-mi-dev.s3.amazonaws.com/neo_planet...     Z   \n",
       "1  Newkirk Precinct  https://gg2-mi-dev.s3.amazonaws.com/newkirk_pr...     P   \n",
       "2     Overgrowth LE  https://gg2-mi-dev.s3.amazonaws.com/overgrowth...     P   \n",
       "3          Ohana LE   https://gg2-mi-dev.s3.amazonaws.com/ohana_le.jpg     Z   \n",
       "4       Dusk Towers                                               None     P   \n",
       "\n",
       "  release_string                                            replays  \\\n",
       "0    2.0.9.26147  [{'md5': '0d89f4564a2832c6db1568204b738237', '...   \n",
       "1    2.0.7.25293  [{'md5': '077b724892c023394b1b9d41c90f7945', '...   \n",
       "2    2.1.3.30508  [{'md5': '088fe6d663b49cd59694bd8e2c71f6b6', '...   \n",
       "3    2.1.6.32540  [{'md5': 'e5fc31a3445a6a0c8bd463ee1d59b404', '...   \n",
       "4    3.1.4.41219  [{'md5': '7f927d84a785988def0c997ee2b2a160', '...   \n",
       "\n",
       "   replays_count  summaries_count  winning_team  \n",
       "0              1                0             2  \n",
       "1              1                0             2  \n",
       "2              1                0             2  \n",
       "3              1                0             2  \n",
       "4              2                0             1  "
      ]
     },
     "execution_count": 102,
     "metadata": {},
     "output_type": "execute_result"
    }
   ],
   "source": [
    "df_data.head()"
   ]
  },
  {
   "cell_type": "code",
   "execution_count": 153,
   "metadata": {
    "collapsed": false
   },
   "outputs": [],
   "source": [
    "df_data_cleaned = df_data[(df_data[\"game_type\"] == \"1v1\") & (df_data[\"category\"] == \"Ladder\")]\n",
    "wol_games = df_data[df_data[\"expansion\"] == 0]"
   ]
  },
  {
   "cell_type": "code",
   "execution_count": 152,
   "metadata": {
    "collapsed": false
   },
   "outputs": [
    {
     "data": {
      "text/plain": [
       "246"
      ]
     },
     "execution_count": 152,
     "metadata": {},
     "output_type": "execute_result"
    }
   ],
   "source": [
    "len(lotv_games) #very little"
   ]
  },
  {
   "cell_type": "code",
   "execution_count": 154,
   "metadata": {
    "collapsed": false
   },
   "outputs": [
    {
     "data": {
      "text/html": [
       "<div>\n",
       "<table border=\"1\" class=\"dataframe\">\n",
       "  <thead>\n",
       "    <tr style=\"text-align: right;\">\n",
       "      <th></th>\n",
       "      <th>average_league</th>\n",
       "      <th>category</th>\n",
       "      <th>cobrand</th>\n",
       "      <th>duration_seconds</th>\n",
       "      <th>ended_at</th>\n",
       "      <th>entities</th>\n",
       "      <th>expansion</th>\n",
       "      <th>game_name</th>\n",
       "      <th>game_type</th>\n",
       "      <th>id</th>\n",
       "      <th>map</th>\n",
       "      <th>map_name</th>\n",
       "      <th>map_url</th>\n",
       "      <th>race1</th>\n",
       "      <th>race2</th>\n",
       "      <th>release_string</th>\n",
       "      <th>replays</th>\n",
       "      <th>replays_count</th>\n",
       "      <th>summaries_count</th>\n",
       "      <th>winning_team</th>\n",
       "    </tr>\n",
       "  </thead>\n",
       "  <tbody>\n",
       "    <tr>\n",
       "      <th>0</th>\n",
       "      <td>3.0</td>\n",
       "      <td>Ladder</td>\n",
       "      <td>NaN</td>\n",
       "      <td>912</td>\n",
       "      <td>2013-07-21T21:31:20+00:00</td>\n",
       "      <td>[{'max_creep_spread': None, 'color': 'B4141E',...</td>\n",
       "      <td>hots</td>\n",
       "      <td>3730202.json</td>\n",
       "      <td>1v1</td>\n",
       "      <td>3730202</td>\n",
       "      <td>{'image_scale': 0.746268656716418, 'id': 1739,...</td>\n",
       "      <td>Neo Planet S LE</td>\n",
       "      <td>https://gg2-mi-dev.s3.amazonaws.com/neo_planet...</td>\n",
       "      <td>T</td>\n",
       "      <td>Z</td>\n",
       "      <td>2.0.9.26147</td>\n",
       "      <td>[{'md5': '0d89f4564a2832c6db1568204b738237', '...</td>\n",
       "      <td>1</td>\n",
       "      <td>0</td>\n",
       "      <td>2</td>\n",
       "    </tr>\n",
       "    <tr>\n",
       "      <th>1</th>\n",
       "      <td>5.0</td>\n",
       "      <td>Ladder</td>\n",
       "      <td>NaN</td>\n",
       "      <td>1062</td>\n",
       "      <td>2013-04-19T16:52:17+00:00</td>\n",
       "      <td>[{'max_creep_spread': None, 'color': 'B4141E',...</td>\n",
       "      <td>hots</td>\n",
       "      <td>2840202.json</td>\n",
       "      <td>1v1</td>\n",
       "      <td>2840202</td>\n",
       "      <td>{'image_scale': 0.806451612903226, 'id': 1634,...</td>\n",
       "      <td>Newkirk Precinct</td>\n",
       "      <td>https://gg2-mi-dev.s3.amazonaws.com/newkirk_pr...</td>\n",
       "      <td>T</td>\n",
       "      <td>P</td>\n",
       "      <td>2.0.7.25293</td>\n",
       "      <td>[{'md5': '077b724892c023394b1b9d41c90f7945', '...</td>\n",
       "      <td>1</td>\n",
       "      <td>0</td>\n",
       "      <td>2</td>\n",
       "    </tr>\n",
       "    <tr>\n",
       "      <th>3</th>\n",
       "      <td>1.0</td>\n",
       "      <td>Ladder</td>\n",
       "      <td>NaN</td>\n",
       "      <td>721</td>\n",
       "      <td>2014-11-11T07:50:42+00:00</td>\n",
       "      <td>[{'max_creep_spread': None, 'color': 'B4141E',...</td>\n",
       "      <td>hots</td>\n",
       "      <td>5584202.json</td>\n",
       "      <td>1v1</td>\n",
       "      <td>5584202</td>\n",
       "      <td>{'image_scale': 0.704225352112676, 'id': 5578,...</td>\n",
       "      <td>Ohana LE</td>\n",
       "      <td>https://gg2-mi-dev.s3.amazonaws.com/ohana_le.jpg</td>\n",
       "      <td>P</td>\n",
       "      <td>Z</td>\n",
       "      <td>2.1.6.32540</td>\n",
       "      <td>[{'md5': 'e5fc31a3445a6a0c8bd463ee1d59b404', '...</td>\n",
       "      <td>1</td>\n",
       "      <td>0</td>\n",
       "      <td>2</td>\n",
       "    </tr>\n",
       "    <tr>\n",
       "      <th>4</th>\n",
       "      <td>1.0</td>\n",
       "      <td>Ladder</td>\n",
       "      <td>NaN</td>\n",
       "      <td>10</td>\n",
       "      <td>2016-03-12T00:46:05+00:00</td>\n",
       "      <td>[{'max_creep_spread': None, 'color': 'B4141E',...</td>\n",
       "      <td>lotv</td>\n",
       "      <td>6527202.json</td>\n",
       "      <td>1v1</td>\n",
       "      <td>6527202</td>\n",
       "      <td>{'image_scale': -5.16592012551525e-08, 'id': 7...</td>\n",
       "      <td>Dusk Towers</td>\n",
       "      <td>None</td>\n",
       "      <td>Z</td>\n",
       "      <td>P</td>\n",
       "      <td>3.1.4.41219</td>\n",
       "      <td>[{'md5': '7f927d84a785988def0c997ee2b2a160', '...</td>\n",
       "      <td>2</td>\n",
       "      <td>0</td>\n",
       "      <td>1</td>\n",
       "    </tr>\n",
       "    <tr>\n",
       "      <th>5</th>\n",
       "      <td>3.0</td>\n",
       "      <td>Ladder</td>\n",
       "      <td>NaN</td>\n",
       "      <td>1342</td>\n",
       "      <td>2014-10-09T04:59:11+00:00</td>\n",
       "      <td>[{'max_creep_spread': None, 'color': 'B4141E',...</td>\n",
       "      <td>hots</td>\n",
       "      <td>5498202.json</td>\n",
       "      <td>1v1</td>\n",
       "      <td>5498202</td>\n",
       "      <td>{'image_scale': 0.694444444444444, 'id': 5440,...</td>\n",
       "      <td>Overgrowth LE</td>\n",
       "      <td>https://gg2-mi-dev.s3.amazonaws.com/overgrowth...</td>\n",
       "      <td>T</td>\n",
       "      <td>Z</td>\n",
       "      <td>2.1.5.32392</td>\n",
       "      <td>[{'md5': 'd35b66796ef59e7220f65af368210d28', '...</td>\n",
       "      <td>1</td>\n",
       "      <td>0</td>\n",
       "      <td>2</td>\n",
       "    </tr>\n",
       "  </tbody>\n",
       "</table>\n",
       "</div>"
      ],
      "text/plain": [
       "   average_league category  cobrand  duration_seconds  \\\n",
       "0             3.0   Ladder      NaN               912   \n",
       "1             5.0   Ladder      NaN              1062   \n",
       "3             1.0   Ladder      NaN               721   \n",
       "4             1.0   Ladder      NaN                10   \n",
       "5             3.0   Ladder      NaN              1342   \n",
       "\n",
       "                    ended_at  \\\n",
       "0  2013-07-21T21:31:20+00:00   \n",
       "1  2013-04-19T16:52:17+00:00   \n",
       "3  2014-11-11T07:50:42+00:00   \n",
       "4  2016-03-12T00:46:05+00:00   \n",
       "5  2014-10-09T04:59:11+00:00   \n",
       "\n",
       "                                            entities expansion     game_name  \\\n",
       "0  [{'max_creep_spread': None, 'color': 'B4141E',...      hots  3730202.json   \n",
       "1  [{'max_creep_spread': None, 'color': 'B4141E',...      hots  2840202.json   \n",
       "3  [{'max_creep_spread': None, 'color': 'B4141E',...      hots  5584202.json   \n",
       "4  [{'max_creep_spread': None, 'color': 'B4141E',...      lotv  6527202.json   \n",
       "5  [{'max_creep_spread': None, 'color': 'B4141E',...      hots  5498202.json   \n",
       "\n",
       "  game_type       id                                                map  \\\n",
       "0       1v1  3730202  {'image_scale': 0.746268656716418, 'id': 1739,...   \n",
       "1       1v1  2840202  {'image_scale': 0.806451612903226, 'id': 1634,...   \n",
       "3       1v1  5584202  {'image_scale': 0.704225352112676, 'id': 5578,...   \n",
       "4       1v1  6527202  {'image_scale': -5.16592012551525e-08, 'id': 7...   \n",
       "5       1v1  5498202  {'image_scale': 0.694444444444444, 'id': 5440,...   \n",
       "\n",
       "           map_name                                            map_url race1  \\\n",
       "0   Neo Planet S LE  https://gg2-mi-dev.s3.amazonaws.com/neo_planet...     T   \n",
       "1  Newkirk Precinct  https://gg2-mi-dev.s3.amazonaws.com/newkirk_pr...     T   \n",
       "3          Ohana LE   https://gg2-mi-dev.s3.amazonaws.com/ohana_le.jpg     P   \n",
       "4       Dusk Towers                                               None     Z   \n",
       "5     Overgrowth LE  https://gg2-mi-dev.s3.amazonaws.com/overgrowth...     T   \n",
       "\n",
       "  race2 release_string                                            replays  \\\n",
       "0     Z    2.0.9.26147  [{'md5': '0d89f4564a2832c6db1568204b738237', '...   \n",
       "1     P    2.0.7.25293  [{'md5': '077b724892c023394b1b9d41c90f7945', '...   \n",
       "3     Z    2.1.6.32540  [{'md5': 'e5fc31a3445a6a0c8bd463ee1d59b404', '...   \n",
       "4     P    3.1.4.41219  [{'md5': '7f927d84a785988def0c997ee2b2a160', '...   \n",
       "5     Z    2.1.5.32392  [{'md5': 'd35b66796ef59e7220f65af368210d28', '...   \n",
       "\n",
       "   replays_count  summaries_count  winning_team  \n",
       "0              1                0             2  \n",
       "1              1                0             2  \n",
       "3              1                0             2  \n",
       "4              2                0             1  \n",
       "5              1                0             2  "
      ]
     },
     "execution_count": 154,
     "metadata": {},
     "output_type": "execute_result"
    }
   ],
   "source": [
    "expansion_dict = {0: \"wol\", 1: \"hots\", 2: \"lotv\"}\n",
    "games = df_data_cleaned.replace({\"expansion\":expansion_dict})\n",
    "\n",
    "games.head()"
   ]
  },
  {
   "cell_type": "code",
   "execution_count": 158,
   "metadata": {
    "collapsed": false
   },
   "outputs": [],
   "source": [
    "def winners_race(expansion):\n",
    "    wins_races1 = games[(games[\"winning_team\"] == 1) & (games[\"expansion\"] == expansion)]\\\n",
    "    .groupby(\"race1\")[\"id\"].count()\n",
    "    wins_races2 = games[(games[\"winning_team\"] == 2) & (games[\"expansion\"] == expansion)]\\\n",
    "    .groupby(\"race2\")[\"id\"].count()\n",
    "    return ((wins_races1 + wins_races2) / (wins_races1.sum() + wins_races2.sum()) )"
   ]
  },
  {
   "cell_type": "code",
   "execution_count": 176,
   "metadata": {
    "collapsed": false
   },
   "outputs": [
    {
     "data": {
      "text/plain": [
       "<matplotlib.axes._subplots.AxesSubplot at 0x7fd3fadf19b0>"
      ]
     },
     "execution_count": 176,
     "metadata": {},
     "output_type": "execute_result"
    },
    {
     "data": {
      "image/png": "[encoded data removed]",
      "text/plain": [
       "<matplotlib.figure.Figure at 0x7fd3fadb4a20>"
      ]
     },
     "metadata": {},
     "output_type": "display_data"
    }
   ],
   "source": [
    "winners = pd.DataFrame()\n",
    "for e in expansion_dict.values():\n",
    "    winners[e] = winners_race(e)\n",
    "winners.plot(kind=\"bar\", layout=(1,3), figsize=(30, 10))"
   ]
  },
  {
   "cell_type": "code",
   "execution_count": 107,
   "metadata": {
    "collapsed": false,
    "scrolled": true
   },
   "outputs": [
    {
     "name": "stdout",
     "output_type": "stream",
     "text": [
      "6        698202.json\n",
      "10      5558202.json\n",
      "13      1769202.json\n",
      "26       543202.json\n",
      "27       328202.json\n",
      "41       120202.json\n",
      "44       310202.json\n",
      "51      3101202.json\n",
      "62       129202.json\n",
      "68      6280202.json\n",
      "69      1570202.json\n",
      "72      4072202.json\n",
      "75       442202.json\n",
      "79      3215202.json\n",
      "84      2701202.json\n",
      "92       437202.json\n",
      "108     1632202.json\n",
      "124     3164202.json\n",
      "129      390202.json\n",
      "134     4461202.json\n",
      "136      407202.json\n",
      "138     5105202.json\n",
      "139      446202.json\n",
      "148      468202.json\n",
      "157      304202.json\n",
      "168     4083202.json\n",
      "176     1789202.json\n",
      "178      376202.json\n",
      "205     3568202.json\n",
      "206      331202.json\n",
      "            ...     \n",
      "2616     432202.json\n",
      "2628     314202.json\n",
      "2630     439202.json\n",
      "2643     523202.json\n",
      "2672     373202.json\n",
      "2683    1612202.json\n",
      "2685    2760202.json\n",
      "2691     481202.json\n",
      "2695     460202.json\n",
      "2708    1066202.json\n",
      "2709     374202.json\n",
      "2714     417202.json\n",
      "2717    3360202.json\n",
      "2720     546202.json\n",
      "2749     365202.json\n",
      "2750    6206202.json\n",
      "2778      91202.json\n",
      "2780     622202.json\n",
      "2786    3428202.json\n",
      "2790     303202.json\n",
      "2803     419202.json\n",
      "2806    1655202.json\n",
      "2845     449202.json\n",
      "2853    2721202.json\n",
      "2863     292202.json\n",
      "2878    2945202.json\n",
      "2885    3945202.json\n",
      "2888    4215202.json\n",
      "2900    4727202.json\n",
      "2901    1615202.json\n",
      "Name: game_name, dtype: object\n"
     ]
    }
   ],
   "source": [
    "print(wol_games[\"game_name\"])"
   ]
  },
  {
   "cell_type": "code",
   "execution_count": null,
   "metadata": {
    "collapsed": true
   },
   "outputs": [],
   "source": []
  }
 ],
 "metadata": {
  "kernelspec": {
   "display_name": "Python 3",
   "language": "python",
   "name": "python3"
  },
  "language_info": {
   "codemirror_mode": {
    "name": "ipython",
    "version": 3
   },
   "file_extension": ".py",
   "mimetype": "text/x-python",
   "name": "python",
   "nbconvert_exporter": "python",
   "pygments_lexer": "ipython3",
   "version": "3.5.1"
  }
 },
 "nbformat": 4,
 "nbformat_minor": 0
}
