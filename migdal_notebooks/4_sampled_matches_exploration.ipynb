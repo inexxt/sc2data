{
 "cells": [
  {
   "cell_type": "code",
   "execution_count": 1,
   "metadata": {
    "collapsed": false
   },
   "outputs": [],
   "source": [
    "import json\n",
    "from glob import glob\n",
    "from tqdm import tqdm\n",
    "import pandas as pd\n",
    "import seaborn as sns\n",
    "%matplotlib inline"
   ]
  },
  {
   "cell_type": "code",
   "execution_count": 2,
   "metadata": {
    "collapsed": true
   },
   "outputs": [],
   "source": [
    "path = \"/Users/piotrmigdal/datasets/ggtracker/matches_6555_sampled_meta/\""
   ]
  },
  {
   "cell_type": "code",
   "execution_count": 3,
   "metadata": {
    "collapsed": true
   },
   "outputs": [],
   "source": [
    "filenames = glob(path + \"*\")"
   ]
  },
  {
   "cell_type": "code",
   "execution_count": 4,
   "metadata": {
    "collapsed": false
   },
   "outputs": [
    {
     "name": "stderr",
     "output_type": "stream",
     "text": []
    }
   ],
   "source": [
    "matches = []\n",
    "for filename in tqdm(filenames):\n",
    "    with open(filename) as f:\n",
    "        matches.append(json.load(f))"
   ]
  },
  {
   "cell_type": "code",
   "execution_count": 9,
   "metadata": {
    "collapsed": false
   },
   "outputs": [
    {
     "data": {
      "text/plain": [
       "{'average_league': 4,\n",
       " 'category': 'Ladder',\n",
       " 'cobrand': None,\n",
       " 'duration_seconds': 1719,\n",
       " 'ended_at': '2012-10-13T21:41:42+00:00',\n",
       " 'entities': [],\n",
       " 'expansion': 0,\n",
       " 'game_type': '2v2',\n",
       " 'id': 100202,\n",
       " 'map': {},\n",
       " 'map_name': None,\n",
       " 'map_url': None,\n",
       " 'release_string': None,\n",
       " 'replays': [],\n",
       " 'replays_count': 0,\n",
       " 'summaries_count': 1,\n",
       " 'winning_team': 2}"
      ]
     },
     "execution_count": 9,
     "metadata": {},
     "output_type": "execute_result"
    }
   ],
   "source": [
    "matches[2]"
   ]
  },
  {
   "cell_type": "code",
   "execution_count": 6,
   "metadata": {
    "collapsed": false
   },
   "outputs": [
    {
     "data": {
      "text/plain": [
       "278"
      ]
     },
     "execution_count": 6,
     "metadata": {},
     "output_type": "execute_result"
    }
   ],
   "source": [
    "len([match for match in matches if \"entities\" not in match])"
   ]
  },
  {
   "cell_type": "code",
   "execution_count": 12,
   "metadata": {
    "collapsed": false
   },
   "outputs": [
    {
     "data": {
      "text/plain": [
       "0.042410373760488174"
      ]
     },
     "execution_count": 12,
     "metadata": {},
     "output_type": "execute_result"
    }
   ],
   "source": [
    "278/6555"
   ]
  },
  {
   "cell_type": "code",
   "execution_count": 7,
   "metadata": {
    "collapsed": false
   },
   "outputs": [
    {
     "data": {
      "text/plain": [
       "3616"
      ]
     },
     "execution_count": 7,
     "metadata": {},
     "output_type": "execute_result"
    }
   ],
   "source": [
    "len([match for match in matches if len(match.get(\"entities\", [])) > 0])"
   ]
  },
  {
   "cell_type": "code",
   "execution_count": 8,
   "metadata": {
    "collapsed": false
   },
   "outputs": [
    {
     "data": {
      "text/plain": [
       "0.5516399694889398"
      ]
     },
     "execution_count": 8,
     "metadata": {},
     "output_type": "execute_result"
    }
   ],
   "source": [
    "3616/6555"
   ]
  },
  {
   "cell_type": "code",
   "execution_count": 21,
   "metadata": {
    "collapsed": false
   },
   "outputs": [
    {
     "data": {
      "text/plain": [
       "[{'average_league': 2,\n",
       "  'category': 'Ladder',\n",
       "  'cobrand': None,\n",
       "  'duration_seconds': 1262,\n",
       "  'ended_at': '2013-01-11T05:13:24+00:00',\n",
       "  'entities': [],\n",
       "  'expansion': 0,\n",
       "  'game_type': '1v1',\n",
       "  'id': 989202,\n",
       "  'map': {},\n",
       "  'map_name': None,\n",
       "  'map_url': None,\n",
       "  'release_string': None,\n",
       "  'replays': [],\n",
       "  'replays_count': 0,\n",
       "  'summaries_count': 1,\n",
       "  'winning_team': 2},\n",
       " {'average_league': 2,\n",
       "  'category': 'Ladder',\n",
       "  'cobrand': None,\n",
       "  'duration_seconds': 3,\n",
       "  'ended_at': '2012-11-22T08:19:37+00:00',\n",
       "  'entities': [],\n",
       "  'expansion': 0,\n",
       "  'game_type': '1v1',\n",
       "  'id': 991202,\n",
       "  'map': {},\n",
       "  'map_name': None,\n",
       "  'map_url': None,\n",
       "  'release_string': None,\n",
       "  'replays': [],\n",
       "  'replays_count': 0,\n",
       "  'summaries_count': 2,\n",
       "  'winning_team': 2},\n",
       " {'average_league': 3,\n",
       "  'category': 'Private',\n",
       "  'cobrand': None,\n",
       "  'duration_seconds': 1738,\n",
       "  'ended_at': '2013-01-14T20:54:21+00:00',\n",
       "  'entities': [],\n",
       "  'expansion': 0,\n",
       "  'game_type': '1v1',\n",
       "  'id': 992202,\n",
       "  'map': {},\n",
       "  'map_name': None,\n",
       "  'map_url': None,\n",
       "  'release_string': None,\n",
       "  'replays': [],\n",
       "  'replays_count': 0,\n",
       "  'summaries_count': 1,\n",
       "  'winning_team': 1},\n",
       " {'average_league': 4,\n",
       "  'category': 'Ladder',\n",
       "  'cobrand': None,\n",
       "  'duration_seconds': 1106,\n",
       "  'ended_at': '2013-01-14T16:27:01+00:00',\n",
       "  'entities': [],\n",
       "  'expansion': 0,\n",
       "  'game_type': '1v1',\n",
       "  'id': 993202,\n",
       "  'map': {},\n",
       "  'map_name': None,\n",
       "  'map_url': None,\n",
       "  'release_string': None,\n",
       "  'replays': [],\n",
       "  'replays_count': 0,\n",
       "  'summaries_count': 1,\n",
       "  'winning_team': 2},\n",
       " {'average_league': 1,\n",
       "  'category': 'Ladder',\n",
       "  'cobrand': None,\n",
       "  'duration_seconds': 1,\n",
       "  'ended_at': '2012-12-31T18:38:00+00:00',\n",
       "  'entities': [],\n",
       "  'expansion': 0,\n",
       "  'game_type': '1v1',\n",
       "  'id': 996202,\n",
       "  'map': {},\n",
       "  'map_name': None,\n",
       "  'map_url': None,\n",
       "  'release_string': None,\n",
       "  'replays': [],\n",
       "  'replays_count': 0,\n",
       "  'summaries_count': 1,\n",
       "  'winning_team': 2}]"
      ]
     },
     "execution_count": 21,
     "metadata": {},
     "output_type": "execute_result"
    }
   ],
   "source": [
    "[match for match in matches if len(match.get(\"entities\", [])) == 0\n",
    "                            and match.get(\"game_type\") == \"1v1\"][-5:]"
   ]
  },
  {
   "cell_type": "code",
   "execution_count": 16,
   "metadata": {
    "collapsed": false
   },
   "outputs": [
    {
     "data": {
      "text/plain": [
       "[{'error': 'Not Found', 'status': 'error'},\n",
       " {'error': 'Not Found', 'status': 'error'},\n",
       " {'error': 'Not Found', 'status': 'error'}]"
      ]
     },
     "execution_count": 16,
     "metadata": {},
     "output_type": "execute_result"
    }
   ],
   "source": [
    "[match for match in matches if \"entities\" not in match][:3]"
   ]
  },
  {
   "cell_type": "code",
   "execution_count": 8,
   "metadata": {
    "collapsed": true
   },
   "outputs": [],
   "source": [
    "df = pd.DataFrame(matches)"
   ]
  },
  {
   "cell_type": "code",
   "execution_count": 9,
   "metadata": {
    "collapsed": false
   },
   "outputs": [
    {
     "data": {
      "text/html": [
       "<div>\n",
       "<table border=\"1\" class=\"dataframe\">\n",
       "  <thead>\n",
       "    <tr style=\"text-align: right;\">\n",
       "      <th></th>\n",
       "      <th>average_league</th>\n",
       "      <th>category</th>\n",
       "      <th>cobrand</th>\n",
       "      <th>duration_seconds</th>\n",
       "      <th>ended_at</th>\n",
       "      <th>entities</th>\n",
       "      <th>error</th>\n",
       "      <th>expansion</th>\n",
       "      <th>game_type</th>\n",
       "      <th>id</th>\n",
       "      <th>map</th>\n",
       "      <th>map_name</th>\n",
       "      <th>map_url</th>\n",
       "      <th>release_string</th>\n",
       "      <th>replays</th>\n",
       "      <th>replays_count</th>\n",
       "      <th>status</th>\n",
       "      <th>summaries_count</th>\n",
       "      <th>winning_team</th>\n",
       "    </tr>\n",
       "  </thead>\n",
       "  <tbody>\n",
       "    <tr>\n",
       "      <th>0</th>\n",
       "      <td>3.0</td>\n",
       "      <td>Ladder</td>\n",
       "      <td>NaN</td>\n",
       "      <td>1342.0</td>\n",
       "      <td>2013-01-13T01:25:07+00:00</td>\n",
       "      <td>[]</td>\n",
       "      <td>NaN</td>\n",
       "      <td>0.0</td>\n",
       "      <td>4v4</td>\n",
       "      <td>1000202.0</td>\n",
       "      <td>{}</td>\n",
       "      <td>None</td>\n",
       "      <td>None</td>\n",
       "      <td>None</td>\n",
       "      <td>[]</td>\n",
       "      <td>0.0</td>\n",
       "      <td>NaN</td>\n",
       "      <td>1.0</td>\n",
       "      <td>1.0</td>\n",
       "    </tr>\n",
       "    <tr>\n",
       "      <th>1</th>\n",
       "      <td>2.0</td>\n",
       "      <td>Ladder</td>\n",
       "      <td>NaN</td>\n",
       "      <td>1705.0</td>\n",
       "      <td>2012-12-17T22:56:25+00:00</td>\n",
       "      <td>[]</td>\n",
       "      <td>NaN</td>\n",
       "      <td>0.0</td>\n",
       "      <td>3v3</td>\n",
       "      <td>1001202.0</td>\n",
       "      <td>{}</td>\n",
       "      <td>None</td>\n",
       "      <td>None</td>\n",
       "      <td>None</td>\n",
       "      <td>[]</td>\n",
       "      <td>0.0</td>\n",
       "      <td>NaN</td>\n",
       "      <td>1.0</td>\n",
       "      <td>2.0</td>\n",
       "    </tr>\n",
       "    <tr>\n",
       "      <th>2</th>\n",
       "      <td>4.0</td>\n",
       "      <td>Ladder</td>\n",
       "      <td>NaN</td>\n",
       "      <td>1719.0</td>\n",
       "      <td>2012-10-13T21:41:42+00:00</td>\n",
       "      <td>[]</td>\n",
       "      <td>NaN</td>\n",
       "      <td>0.0</td>\n",
       "      <td>2v2</td>\n",
       "      <td>100202.0</td>\n",
       "      <td>{}</td>\n",
       "      <td>None</td>\n",
       "      <td>None</td>\n",
       "      <td>None</td>\n",
       "      <td>[]</td>\n",
       "      <td>0.0</td>\n",
       "      <td>NaN</td>\n",
       "      <td>1.0</td>\n",
       "      <td>2.0</td>\n",
       "    </tr>\n",
       "    <tr>\n",
       "      <th>3</th>\n",
       "      <td>2.0</td>\n",
       "      <td>Ladder</td>\n",
       "      <td>NaN</td>\n",
       "      <td>2084.0</td>\n",
       "      <td>2012-12-15T05:02:18+00:00</td>\n",
       "      <td>[]</td>\n",
       "      <td>NaN</td>\n",
       "      <td>0.0</td>\n",
       "      <td>4v4</td>\n",
       "      <td>1002202.0</td>\n",
       "      <td>{}</td>\n",
       "      <td>None</td>\n",
       "      <td>None</td>\n",
       "      <td>None</td>\n",
       "      <td>[]</td>\n",
       "      <td>0.0</td>\n",
       "      <td>NaN</td>\n",
       "      <td>1.0</td>\n",
       "      <td>1.0</td>\n",
       "    </tr>\n",
       "    <tr>\n",
       "      <th>4</th>\n",
       "      <td>5.0</td>\n",
       "      <td>Ladder</td>\n",
       "      <td>NaN</td>\n",
       "      <td>1326.0</td>\n",
       "      <td>2013-01-10T09:59:23+00:00</td>\n",
       "      <td>[]</td>\n",
       "      <td>NaN</td>\n",
       "      <td>0.0</td>\n",
       "      <td>2v2</td>\n",
       "      <td>1003202.0</td>\n",
       "      <td>{}</td>\n",
       "      <td>None</td>\n",
       "      <td>None</td>\n",
       "      <td>None</td>\n",
       "      <td>[]</td>\n",
       "      <td>0.0</td>\n",
       "      <td>NaN</td>\n",
       "      <td>1.0</td>\n",
       "      <td>2.0</td>\n",
       "    </tr>\n",
       "  </tbody>\n",
       "</table>\n",
       "</div>"
      ],
      "text/plain": [
       "   average_league category  cobrand  duration_seconds  \\\n",
       "0             3.0   Ladder      NaN            1342.0   \n",
       "1             2.0   Ladder      NaN            1705.0   \n",
       "2             4.0   Ladder      NaN            1719.0   \n",
       "3             2.0   Ladder      NaN            2084.0   \n",
       "4             5.0   Ladder      NaN            1326.0   \n",
       "\n",
       "                    ended_at entities error  expansion game_type         id  \\\n",
       "0  2013-01-13T01:25:07+00:00       []   NaN        0.0       4v4  1000202.0   \n",
       "1  2012-12-17T22:56:25+00:00       []   NaN        0.0       3v3  1001202.0   \n",
       "2  2012-10-13T21:41:42+00:00       []   NaN        0.0       2v2   100202.0   \n",
       "3  2012-12-15T05:02:18+00:00       []   NaN        0.0       4v4  1002202.0   \n",
       "4  2013-01-10T09:59:23+00:00       []   NaN        0.0       2v2  1003202.0   \n",
       "\n",
       "  map map_name map_url release_string replays  replays_count status  \\\n",
       "0  {}     None    None           None      []            0.0    NaN   \n",
       "1  {}     None    None           None      []            0.0    NaN   \n",
       "2  {}     None    None           None      []            0.0    NaN   \n",
       "3  {}     None    None           None      []            0.0    NaN   \n",
       "4  {}     None    None           None      []            0.0    NaN   \n",
       "\n",
       "   summaries_count  winning_team  \n",
       "0              1.0           1.0  \n",
       "1              1.0           2.0  \n",
       "2              1.0           2.0  \n",
       "3              1.0           1.0  \n",
       "4              1.0           2.0  "
      ]
     },
     "execution_count": 9,
     "metadata": {},
     "output_type": "execute_result"
    }
   ],
   "source": [
    "df.head()"
   ]
  },
  {
   "cell_type": "code",
   "execution_count": 10,
   "metadata": {
    "collapsed": false
   },
   "outputs": [
    {
     "data": {
      "text/plain": [
       "<matplotlib.axes._subplots.AxesSubplot at 0x10b516470>"
      ]
     },
     "execution_count": 10,
     "metadata": {},
     "output_type": "execute_result"
    },
    {
     "data": {
      "image/png": "[encoded data removed]",
      "text/plain": [
       "<matplotlib.figure.Figure at 0x10b516e80>"
      ]
     },
     "metadata": {},
     "output_type": "display_data"
    }
   ],
   "source": [
    "df.average_league.value_counts().sort_index().plot(kind=\"bar\")"
   ]
  },
  {
   "cell_type": "code",
   "execution_count": 11,
   "metadata": {
    "collapsed": false
   },
   "outputs": [
    {
     "data": {
      "text/plain": [
       "<matplotlib.axes._subplots.AxesSubplot at 0x10b5fb6d8>"
      ]
     },
     "execution_count": 11,
     "metadata": {},
     "output_type": "execute_result"
    },
    {
     "data": {
      "image/png": "[encoded data removed]",
      "text/plain": [
       "<matplotlib.figure.Figure at 0x10b657c50>"
      ]
     },
     "metadata": {},
     "output_type": "display_data"
    }
   ],
   "source": [
    "(df.duration_seconds / 60).hist(bins=50, range=(0,100))"
   ]
  },
  {
   "cell_type": "code",
   "execution_count": 22,
   "metadata": {
    "collapsed": false
   },
   "outputs": [
    {
     "data": {
      "text/plain": [
       "<matplotlib.axes._subplots.AxesSubplot at 0x10c1a4080>"
      ]
     },
     "execution_count": 22,
     "metadata": {},
     "output_type": "execute_result"
    },
    {
     "data": {
      "image/png": "[encoded data removed]",
      "text/plain": [
       "<matplotlib.figure.Figure at 0x10c1e05c0>"
      ]
     },
     "metadata": {},
     "output_type": "display_data"
    }
   ],
   "source": [
    "df.expansion.value_counts(normalize=True).sort_index().plot(kind=\"bar\")"
   ]
  },
  {
   "cell_type": "code",
   "execution_count": 21,
   "metadata": {
    "collapsed": true
   },
   "outputs": [],
   "source": [
    "df.expansion.value_counts?"
   ]
  },
  {
   "cell_type": "code",
   "execution_count": 20,
   "metadata": {
    "collapsed": false
   },
   "outputs": [
    {
     "data": {
      "text/plain": [
       "<matplotlib.axes._subplots.AxesSubplot at 0x10c1982e8>"
      ]
     },
     "execution_count": 20,
     "metadata": {},
     "output_type": "execute_result"
    },
    {
     "data": {
      "image/png": "[encoded data removed]",
      "text/plain": [
       "<matplotlib.figure.Figure at 0x10c1a2588>"
      ]
     },
     "metadata": {},
     "output_type": "display_data"
    }
   ],
   "source": [
    "df.category.value_counts().plot(kind=\"bar\")"
   ]
  },
  {
   "cell_type": "code",
   "execution_count": 19,
   "metadata": {
    "collapsed": false
   },
   "outputs": [
    {
     "data": {
      "text/plain": [
       "<matplotlib.axes._subplots.AxesSubplot at 0x10bf9e0b8>"
      ]
     },
     "execution_count": 19,
     "metadata": {},
     "output_type": "execute_result"
    },
    {
     "data": {
      "image/png": "[encoded data removed]",
      "text/plain": [
       "<matplotlib.figure.Figure at 0x10bf21a58>"
      ]
     },
     "metadata": {},
     "output_type": "display_data"
    }
   ],
   "source": [
    "df.game_type.value_counts().plot(kind=\"bar\")"
   ]
  },
  {
   "cell_type": "code",
   "execution_count": 14,
   "metadata": {
    "collapsed": false
   },
   "outputs": [],
   "source": [
    "df[\"date\"] = pd.to_datetime(df.ended_at)\n",
    "df = df[pd.notnull(df[\"date\"])]"
   ]
  },
  {
   "cell_type": "code",
   "execution_count": 15,
   "metadata": {
    "collapsed": false
   },
   "outputs": [],
   "source": [
    "df[\"date_y\"] = df[\"date\"].apply(lambda x: x.toordinal())"
   ]
  },
  {
   "cell_type": "code",
   "execution_count": 16,
   "metadata": {
    "collapsed": false
   },
   "outputs": [
    {
     "data": {
      "text/plain": [
       "expansion\n",
       "0.0    Axes(0.125,0.125;0.775x0.775)\n",
       "1.0    Axes(0.125,0.125;0.775x0.775)\n",
       "2.0    Axes(0.125,0.125;0.775x0.775)\n",
       "Name: date_y, dtype: object"
      ]
     },
     "execution_count": 16,
     "metadata": {},
     "output_type": "execute_result"
    },
    {
     "data": {
      "image/png": "[encoded data removed]",
      "text/plain": [
       "<matplotlib.figure.Figure at 0x10b984320>"
      ]
     },
     "metadata": {},
     "output_type": "display_data"
    }
   ],
   "source": [
    "df.groupby(\"expansion\").date_y.plot(\"kde\")"
   ]
  },
  {
   "cell_type": "code",
   "execution_count": 17,
   "metadata": {
    "collapsed": false
   },
   "outputs": [
    {
     "data": {
      "text/plain": [
       "expansion\n",
       "0.0    Axes(0.125,0.125;0.775x0.775)\n",
       "1.0    Axes(0.125,0.125;0.775x0.775)\n",
       "2.0    Axes(0.125,0.125;0.775x0.775)\n",
       "Name: date_y, dtype: object"
      ]
     },
     "execution_count": 17,
     "metadata": {},
     "output_type": "execute_result"
    },
    {
     "data": {
      "image/png": "[encoded data removed]",
      "text/plain": [
       "<matplotlib.figure.Figure at 0x10bd84c50>"
      ]
     },
     "metadata": {},
     "output_type": "display_data"
    }
   ],
   "source": [
    "df.groupby(\"expansion\").date_y.hist(alpha=0.5, range=(734000, 736500), bins=25)"
   ]
  },
  {
   "cell_type": "code",
   "execution_count": 18,
   "metadata": {
    "collapsed": false
   },
   "outputs": [
    {
     "name": "stderr",
     "output_type": "stream",
     "text": [
      "/usr/local/lib/python3.4/site-packages/statsmodels/nonparametric/kdetools.py:20: VisibleDeprecationWarning: using a non-integer number instead of an integer will result in an error in the future\n",
      "  y = X[:m/2+1] + np.r_[0,X[m/2+1:],0]*1j\n"
     ]
    },
    {
     "data": {
      "text/plain": [
       "<matplotlib.axes._subplots.AxesSubplot at 0x10bcbac50>"
      ]
     },
     "execution_count": 18,
     "metadata": {},
     "output_type": "execute_result"
    },
    {
     "data": {
      "image/png": "[encoded data removed]",
      "text/plain": [
       "<matplotlib.figure.Figure at 0x10bd0a710>"
      ]
     },
     "metadata": {},
     "output_type": "display_data"
    }
   ],
   "source": [
    "sns.kdeplot(df[\"date_y\"])"
   ]
  },
  {
   "cell_type": "code",
   "execution_count": 39,
   "metadata": {
    "collapsed": false
   },
   "outputs": [],
   "source": [
    "df1v1 = df[(df.game_type == \"1v1\") & df.entities.apply(lambda x: len(x) == 2)].copy()"
   ]
  },
  {
   "cell_type": "code",
   "execution_count": 40,
   "metadata": {
    "collapsed": false
   },
   "outputs": [
    {
     "data": {
      "text/plain": [
       "5"
      ]
     },
     "execution_count": 40,
     "metadata": {},
     "output_type": "execute_result"
    }
   ],
   "source": [
    "matches[-1000][\"entities\"][0][\"identity\"][\"current_league_1v1\"]"
   ]
  },
  {
   "cell_type": "code",
   "execution_count": 41,
   "metadata": {
    "collapsed": false
   },
   "outputs": [],
   "source": [
    "df1v1[\"league1\"] = df1v1.entities.apply(lambda x: x[0][\"identity\"][\"current_league_1v1\"])\n",
    "df1v1[\"league2\"] = df1v1.entities.apply(lambda x: x[1][\"identity\"][\"current_league_1v1\"])"
   ]
  },
  {
   "cell_type": "code",
   "execution_count": 42,
   "metadata": {
    "collapsed": false
   },
   "outputs": [
    {
     "data": {
      "text/plain": [
       "Index(['average_league', 'category', 'cobrand', 'duration_seconds', 'ended_at',\n",
       "       'entities', 'error', 'expansion', 'game_type', 'id', 'map', 'map_name',\n",
       "       'map_url', 'release_string', 'replays', 'replays_count', 'status',\n",
       "       'summaries_count', 'winning_team', 'date', 'date_y', 'league1',\n",
       "       'league2'],\n",
       "      dtype='object')"
      ]
     },
     "execution_count": 42,
     "metadata": {},
     "output_type": "execute_result"
    }
   ],
   "source": [
    "df1v1.columns"
   ]
  },
  {
   "cell_type": "code",
   "execution_count": 48,
   "metadata": {
    "collapsed": false
   },
   "outputs": [],
   "source": [
    "who_won = pd.pivot_table(df1v1, index=\"league1\", columns=\"league2\", values=\"winning_team\",\n",
    "                         aggfunc=\"mean\") - 1\n",
    "who_won_count = pd.pivot_table(df1v1, index=\"league1\", columns=\"league2\", values=\"winning_team\",\n",
    "                               aggfunc=\"count\") - 1"
   ]
  },
  {
   "cell_type": "code",
   "execution_count": 47,
   "metadata": {
    "collapsed": false
   },
   "outputs": [
    {
     "name": "stderr",
     "output_type": "stream",
     "text": [
      "/usr/local/lib/python3.4/site-packages/matplotlib/collections.py:571: FutureWarning: elementwise comparison failed; returning scalar instead, but in the future will perform elementwise comparison\n",
      "  if self._edgecolors == str('face'):\n"
     ]
    },
    {
     "data": {
      "text/plain": [
       "<matplotlib.axes._subplots.AxesSubplot at 0x10c641048>"
      ]
     },
     "execution_count": 47,
     "metadata": {},
     "output_type": "execute_result"
    },
    {
     "data": {
      "image/png": "[encoded data removed]",
      "text/plain": [
       "<matplotlib.figure.Figure at 0x10c8b1550>"
      ]
     },
     "metadata": {},
     "output_type": "display_data"
    }
   ],
   "source": [
    "sns.heatmap(who_won - 0.5)"
   ]
  },
  {
   "cell_type": "code",
   "execution_count": 49,
   "metadata": {
    "collapsed": false
   },
   "outputs": [
    {
     "name": "stderr",
     "output_type": "stream",
     "text": [
      "/usr/local/lib/python3.4/site-packages/matplotlib/collections.py:571: FutureWarning: elementwise comparison failed; returning scalar instead, but in the future will perform elementwise comparison\n",
      "  if self._edgecolors == str('face'):\n"
     ]
    },
    {
     "data": {
      "text/plain": [
       "<matplotlib.axes._subplots.AxesSubplot at 0x10cb10ac8>"
      ]
     },
     "execution_count": 49,
     "metadata": {},
     "output_type": "execute_result"
    },
    {
     "data": {
      "image/png": "[encoded data removed]",
      "text/plain": [
       "<matplotlib.figure.Figure at 0x10c9a3160>"
      ]
     },
     "metadata": {},
     "output_type": "display_data"
    }
   ],
   "source": [
    "sns.heatmap(who_won_count)"
   ]
  },
  {
   "cell_type": "code",
   "execution_count": null,
   "metadata": {
    "collapsed": true
   },
   "outputs": [],
   "source": []
  }
 ],
 "metadata": {
  "kernelspec": {
   "display_name": "IPython (Python 3)",
   "language": "python",
   "name": "python3"
  },
  "language_info": {
   "codemirror_mode": {
    "name": "ipython",
    "version": 3
   },
   "file_extension": ".py",
   "mimetype": "text/x-python",
   "name": "python",
   "nbconvert_exporter": "python",
   "pygments_lexer": "ipython3",
   "version": "3.4.3"
  }
 },
 "nbformat": 4,
 "nbformat_minor": 0
}
