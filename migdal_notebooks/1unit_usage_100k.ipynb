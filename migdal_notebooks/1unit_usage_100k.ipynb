{
 "cells": [
  {
   "cell_type": "code",
   "execution_count": 2,
   "metadata": {
    "collapsed": true
   },
   "outputs": [],
   "source": [
    "import json\n",
    "from glob import glob\n",
    "%matplotlib inline\n",
    "import pandas as pd\n",
    "from tqdm import tqdm\n",
    "from matplotlib import pyplot as plt\n",
    "import seaborn as sns\n",
    "from collections import Counter"
   ]
  },
  {
   "cell_type": "code",
   "execution_count": 26,
   "metadata": {
    "collapsed": true
   },
   "outputs": [],
   "source": [
    "path = \"/home/jack/datasets/ggtracker/matches_1k/\""
   ]
  },
  {
   "cell_type": "code",
   "execution_count": 27,
   "metadata": {
    "collapsed": true
   },
   "outputs": [],
   "source": [
    "match_files = glob(path + \"*\")"
   ]
  },
  {
   "cell_type": "code",
   "execution_count": 28,
   "metadata": {
    "collapsed": false
   },
   "outputs": [
    {
     "data": {
      "text/plain": [
       "100001"
      ]
     },
     "execution_count": 28,
     "metadata": {},
     "output_type": "execute_result"
    }
   ],
   "source": [
    "len(match_files)"
   ]
  },
  {
   "cell_type": "code",
   "execution_count": 29,
   "metadata": {
    "collapsed": false
   },
   "outputs": [
    {
     "data": {
      "text/plain": [
       "'/Users/piotrmigdal/datasets/ggtracker/matches_100k/6455202'"
      ]
     },
     "execution_count": 29,
     "metadata": {},
     "output_type": "execute_result"
    }
   ],
   "source": [
    "match_files[0]"
   ]
  },
  {
   "cell_type": "code",
   "execution_count": 30,
   "metadata": {
    "collapsed": false
   },
   "outputs": [
    {
     "data": {
      "text/plain": [
       "'/Users/piotrmigdal/datasets/ggtracker/matches_100k/6555202'"
      ]
     },
     "execution_count": 30,
     "metadata": {},
     "output_type": "execute_result"
    }
   ],
   "source": [
    "match_files[-1]"
   ]
  },
  {
   "cell_type": "code",
   "execution_count": 31,
   "metadata": {
    "collapsed": true
   },
   "outputs": [],
   "source": [
    "match = json.load(open(match_files[0]))"
   ]
  },
  {
   "cell_type": "code",
   "execution_count": 32,
   "metadata": {
    "collapsed": false
   },
   "outputs": [
    {
     "data": {
      "text/plain": [
       "dict_keys(['Lost', 'WorkersActiveCount', 'macro', 'num_bases', 'upgrades', 'MineralsCollectionRate', 'tmacro', 'VespeneCollectionRate', 'camera', 'MineralsCurrent', 'pmacro', 'VespeneCurrent', 'SupplyUsage', 'engagements', 'deathlocations', 'scouting', 'armies_by_frame', 'locationdiffs', 'aggressions'])"
      ]
     },
     "execution_count": 32,
     "metadata": {},
     "output_type": "execute_result"
    }
   ],
   "source": [
    "match.keys()"
   ]
  },
  {
   "cell_type": "code",
   "execution_count": 33,
   "metadata": {
    "collapsed": false
   },
   "outputs": [
    {
     "data": {
      "text/plain": [
       "dict_keys(['331033', '1681687'])"
      ]
     },
     "execution_count": 33,
     "metadata": {},
     "output_type": "execute_result"
    }
   ],
   "source": [
    "match['armies_by_frame'].keys()"
   ]
  },
  {
   "cell_type": "code",
   "execution_count": 35,
   "metadata": {
    "collapsed": false
   },
   "outputs": [
    {
     "data": {
      "text/plain": [
       "[['marine', 2592, 10346],\n",
       " ['marine', 2991, 10346],\n",
       " ['marine', 3137, 10366],\n",
       " ['scv', 3407, 18050],\n",
       " ['marine', 3536, 10353],\n",
       " ['scv', 3678, 18050],\n",
       " ['scv', 4076, 18050],\n",
       " ['marine', 4079, 10346],\n",
       " ['marine', 4138, 10346],\n",
       " ['scv', 4348, 11607]]"
      ]
     },
     "execution_count": 35,
     "metadata": {},
     "output_type": "execute_result"
    }
   ],
   "source": [
    "match['armies_by_frame']['331033'][20:30]"
   ]
  },
  {
   "cell_type": "code",
   "execution_count": 40,
   "metadata": {
    "collapsed": false
   },
   "outputs": [
    {
     "data": {
      "text/plain": [
       "{'1681687': [12,\n",
       "  12,\n",
       "  12,\n",
       "  13,\n",
       "  14,\n",
       "  14,\n",
       "  16,\n",
       "  16,\n",
       "  16,\n",
       "  16,\n",
       "  15,\n",
       "  14,\n",
       "  14,\n",
       "  14,\n",
       "  14,\n",
       "  16,\n",
       "  16,\n",
       "  16,\n",
       "  16,\n",
       "  16,\n",
       "  15,\n",
       "  15,\n",
       "  15,\n",
       "  13,\n",
       "  13,\n",
       "  15,\n",
       "  17,\n",
       "  18,\n",
       "  18,\n",
       "  21,\n",
       "  21,\n",
       "  22,\n",
       "  23,\n",
       "  24,\n",
       "  24,\n",
       "  26,\n",
       "  27,\n",
       "  27,\n",
       "  27,\n",
       "  30,\n",
       "  35,\n",
       "  34,\n",
       "  35,\n",
       "  33,\n",
       "  33,\n",
       "  40,\n",
       "  40,\n",
       "  42,\n",
       "  41,\n",
       "  40,\n",
       "  41,\n",
       "  41,\n",
       "  47,\n",
       "  47,\n",
       "  49,\n",
       "  52,\n",
       "  52,\n",
       "  52,\n",
       "  49,\n",
       "  48,\n",
       "  47,\n",
       "  46,\n",
       "  46,\n",
       "  46,\n",
       "  46,\n",
       "  46,\n",
       "  46,\n",
       "  46,\n",
       "  43,\n",
       "  43,\n",
       "  48,\n",
       "  46,\n",
       "  45,\n",
       "  45,\n",
       "  45,\n",
       "  44,\n",
       "  43,\n",
       "  43,\n",
       "  42,\n",
       "  43,\n",
       "  43,\n",
       "  42,\n",
       "  42,\n",
       "  41,\n",
       "  41,\n",
       "  44,\n",
       "  50,\n",
       "  50,\n",
       "  50,\n",
       "  50,\n",
       "  50,\n",
       "  49,\n",
       "  49,\n",
       "  49,\n",
       "  42,\n",
       "  41,\n",
       "  33,\n",
       "  32,\n",
       "  32,\n",
       "  35,\n",
       "  35,\n",
       "  34,\n",
       "  34,\n",
       "  34,\n",
       "  31,\n",
       "  31,\n",
       "  30,\n",
       "  22,\n",
       "  19,\n",
       "  15,\n",
       "  10,\n",
       "  1,\n",
       "  1,\n",
       "  2],\n",
       " '331033': [12,\n",
       "  12,\n",
       "  13,\n",
       "  13,\n",
       "  14,\n",
       "  14,\n",
       "  15,\n",
       "  15,\n",
       "  16,\n",
       "  17,\n",
       "  17,\n",
       "  18,\n",
       "  18,\n",
       "  19,\n",
       "  19,\n",
       "  20,\n",
       "  20,\n",
       "  20,\n",
       "  20,\n",
       "  19,\n",
       "  19,\n",
       "  19,\n",
       "  20,\n",
       "  21,\n",
       "  21,\n",
       "  21,\n",
       "  22,\n",
       "  22,\n",
       "  23,\n",
       "  24,\n",
       "  24,\n",
       "  25,\n",
       "  25,\n",
       "  26,\n",
       "  27,\n",
       "  27,\n",
       "  27,\n",
       "  27,\n",
       "  28,\n",
       "  28,\n",
       "  29,\n",
       "  30,\n",
       "  30,\n",
       "  31,\n",
       "  32,\n",
       "  33,\n",
       "  34,\n",
       "  35,\n",
       "  35,\n",
       "  37,\n",
       "  37,\n",
       "  37,\n",
       "  37,\n",
       "  37,\n",
       "  39,\n",
       "  39,\n",
       "  41,\n",
       "  41,\n",
       "  41,\n",
       "  43,\n",
       "  43,\n",
       "  43,\n",
       "  43,\n",
       "  43,\n",
       "  43,\n",
       "  45,\n",
       "  45,\n",
       "  45,\n",
       "  45,\n",
       "  45,\n",
       "  47,\n",
       "  47,\n",
       "  47,\n",
       "  46,\n",
       "  46,\n",
       "  46,\n",
       "  46,\n",
       "  46,\n",
       "  46,\n",
       "  46,\n",
       "  46,\n",
       "  48,\n",
       "  48,\n",
       "  48,\n",
       "  48,\n",
       "  48,\n",
       "  48,\n",
       "  48,\n",
       "  48,\n",
       "  48,\n",
       "  48,\n",
       "  48,\n",
       "  50,\n",
       "  50,\n",
       "  52,\n",
       "  52,\n",
       "  54,\n",
       "  54,\n",
       "  56,\n",
       "  57,\n",
       "  57,\n",
       "  58,\n",
       "  58,\n",
       "  58,\n",
       "  58,\n",
       "  58,\n",
       "  58,\n",
       "  58,\n",
       "  58,\n",
       "  58,\n",
       "  58,\n",
       "  58,\n",
       "  58,\n",
       "  58]}"
      ]
     },
     "execution_count": 40,
     "metadata": {},
     "output_type": "execute_result"
    }
   ],
   "source": [
    "match['WorkersActiveCount']"
   ]
  },
  {
   "cell_type": "code",
   "execution_count": 36,
   "metadata": {
    "collapsed": false
   },
   "outputs": [
    {
     "data": {
      "text/plain": [
       "unit\n",
       "marauder     6223\n",
       "marine       2592\n",
       "medivac      7811\n",
       "scv             0\n",
       "siegetank    6109\n",
       "Name: created, dtype: int64"
      ]
     },
     "execution_count": 36,
     "metadata": {},
     "output_type": "execute_result"
    }
   ],
   "source": [
    "pd.DataFrame(match['armies_by_frame']['331033'], columns=['unit', 'created', 'destroyed']) \\\n",
    "  .groupby('unit')['created'].min()"
   ]
  },
  {
   "cell_type": "code",
   "execution_count": 8,
   "metadata": {
    "collapsed": true
   },
   "outputs": [],
   "source": [
    "def production_to_first_time(army_by_frame):\n",
    "    was = set()\n",
    "    res = []\n",
    "    for unit, created, _ in army_by_frame:\n",
    "        if unit not in was:\n",
    "            res.append((unit, created))\n",
    "            was.add(unit)\n",
    "    return res"
   ]
  },
  {
   "cell_type": "code",
   "execution_count": 11,
   "metadata": {
    "collapsed": false
   },
   "outputs": [
    {
     "name": "stdout",
     "output_type": "stream",
     "text": [
      "100 loops, best of 3: 6.98 ms per loop\n"
     ]
    }
   ],
   "source": [
    "%%timeit\n",
    "match = json.load(open(match_files[0]))"
   ]
  },
  {
   "cell_type": "code",
   "execution_count": 12,
   "metadata": {
    "collapsed": false
   },
   "outputs": [
    {
     "name": "stdout",
     "output_type": "stream",
     "text": [
      "100 loops, best of 3: 2.46 ms per loop\n"
     ]
    }
   ],
   "source": [
    "%%timeit\n",
    "pd.DataFrame(army_by_frame).groupby(0)[1].max()"
   ]
  },
  {
   "cell_type": "code",
   "execution_count": 13,
   "metadata": {
    "collapsed": false
   },
   "outputs": [
    {
     "name": "stdout",
     "output_type": "stream",
     "text": [
      "10000 loops, best of 3: 34.8 µs per loop\n"
     ]
    }
   ],
   "source": [
    "%%timeit\n",
    "production_to_first_time(army_by_frame)\n"
   ]
  },
  {
   "cell_type": "code",
   "execution_count": 15,
   "metadata": {
    "collapsed": false
   },
   "outputs": [
    {
     "name": "stderr",
     "output_type": "stream",
     "text": []
    }
   ],
   "source": [
    "first_times = []\n",
    "errors = []\n",
    "for match_file in tqdm(match_files):\n",
    "    try:\n",
    "        match = json.load(open(match_file))\n",
    "        for player_id, army_by_frame in match['armies_by_frame'].items():\n",
    "            first_time = production_to_first_time(army_by_frame)\n",
    "            first_times.append(first_time)\n",
    "    except:\n",
    "        errors.append(match_file)"
   ]
  },
  {
   "cell_type": "code",
   "execution_count": 16,
   "metadata": {
    "collapsed": false
   },
   "outputs": [
    {
     "data": {
      "text/plain": [
       "348"
      ]
     },
     "execution_count": 16,
     "metadata": {},
     "output_type": "execute_result"
    }
   ],
   "source": [
    "len(errors)"
   ]
  },
  {
   "cell_type": "code",
   "execution_count": 17,
   "metadata": {
    "collapsed": false
   },
   "outputs": [
    {
     "data": {
      "text/plain": [
       "240751"
      ]
     },
     "execution_count": 17,
     "metadata": {},
     "output_type": "execute_result"
    }
   ],
   "source": [
    "len(first_times)"
   ]
  },
  {
   "cell_type": "code",
   "execution_count": 19,
   "metadata": {
    "collapsed": false
   },
   "outputs": [
    {
     "data": {
      "text/plain": [
       "[('drone', 0),\n",
       " ('overlord', 0),\n",
       " ('zergling', 3082),\n",
       " ('queen', 3599),\n",
       " ('overseer', 9493),\n",
       " ('sporecrawler', 6380),\n",
       " ('baneling', 6049),\n",
       " ('hydralisk', 9564),\n",
       " ('broodling', 9967)]"
      ]
     },
     "execution_count": 19,
     "metadata": {},
     "output_type": "execute_result"
    }
   ],
   "source": [
    "first_times[0]"
   ]
  },
  {
   "cell_type": "code",
   "execution_count": 26,
   "metadata": {
    "collapsed": false
   },
   "outputs": [
    {
     "data": {
      "text/plain": [
       "drone                89130\n",
       "scv                  81360\n",
       "probe                69250\n",
       "planetaryfortress      337\n",
       "zergling                38\n",
       "missileturret           28\n",
       "zealot                  25\n",
       "marine                  24\n",
       "sporecrawler            16\n",
       "voidray                 15\n",
       "marauder                15\n",
       "stalker                 14\n",
       "hightemplar             12\n",
       "colossus                10\n",
       "ultralisk                9\n",
       "darktemplar              9\n",
       "corruptor                9\n",
       "sentry                   9\n",
       "roach                    9\n",
       "infestor                 9\n",
       "mutalisk                 8\n",
       "raven                    8\n",
       "lurker                   8\n",
       "ghost                    8\n",
       "carrier                  8\n",
       "reaper                   7\n",
       "tempest                  7\n",
       "viking                   7\n",
       "battlecruiser            6\n",
       "archon                   6\n",
       "oracle                   6\n",
       "widowmine                6\n",
       "immortal                 6\n",
       "banshee                  6\n",
       "baneling                 5\n",
       "queen                    5\n",
       "liberator                5\n",
       "medivac                  5\n",
       "ravager                  5\n",
       "hellion                  4\n",
       "photoncannon             4\n",
       "adept                    4\n",
       "disruptor                4\n",
       "siegetank                4\n",
       "observer                 4\n",
       "hydralisk                3\n",
       "cyclone                  3\n",
       "thor                     3\n",
       "swarmhost                3\n",
       "phoenix                  2\n",
       "overlord                 2\n",
       "warpprism                1\n",
       "dtype: int64"
      ]
     },
     "execution_count": 26,
     "metadata": {},
     "output_type": "execute_result"
    }
   ],
   "source": [
    "pd.Series([ft[0][0] for ft in first_times if len(ft) > 0]).value_counts()"
   ]
  },
  {
   "cell_type": "code",
   "execution_count": null,
   "metadata": {
    "collapsed": true
   },
   "outputs": [],
   "source": [
    "# not only normal games"
   ]
  },
  {
   "cell_type": "code",
   "execution_count": 5,
   "metadata": {
    "collapsed": false
   },
   "outputs": [],
   "source": [
    "# json.dumps(first_times[500])"
   ]
  },
  {
   "cell_type": "code",
   "execution_count": 35,
   "metadata": {
    "collapsed": true
   },
   "outputs": [],
   "source": [
    "json.dump([dict(ft) for ft in first_times if len(ft) > 0],\n",
    "          open(\"processed/first_times.json\", \"w\"))"
   ]
  },
  {
   "cell_type": "code",
   "execution_count": 2,
   "metadata": {
    "collapsed": true
   },
   "outputs": [],
   "source": [
    "fts = json.load(open(\"processed/first_times.json\"))"
   ]
  },
  {
   "cell_type": "code",
   "execution_count": null,
   "metadata": {
    "collapsed": true
   },
   "outputs": [],
   "source": [
    "fts"
   ]
  },
  {
   "cell_type": "code",
   "execution_count": 3,
   "metadata": {
    "collapsed": false
   },
   "outputs": [
    {
     "data": {
      "text/plain": [
       "<matplotlib.axes._subplots.AxesSubplot at 0x106545e48>"
      ]
     },
     "execution_count": 3,
     "metadata": {},
     "output_type": "execute_result"
    },
    {
     "data": {
      "image/png": "[encoded data removed]",
      "text/plain": [
       "<matplotlib.figure.Figure at 0x102775ba8>"
      ]
     },
     "metadata": {},
     "output_type": "display_data"
    }
   ],
   "source": [
    "pd.Series([len(ft) for ft in fts]).value_counts().sort_index().plot(kind=\"bar\")"
   ]
  },
  {
   "cell_type": "code",
   "execution_count": 10,
   "metadata": {
    "collapsed": false
   },
   "outputs": [],
   "source": [
    "zergs = [ft for ft in fts if len(ft) > 0 and \"drone\" in ft and ft[\"drone\"] == 0]"
   ]
  },
  {
   "cell_type": "code",
   "execution_count": 11,
   "metadata": {
    "collapsed": false
   },
   "outputs": [
    {
     "data": {
      "text/plain": [
       "89195"
      ]
     },
     "execution_count": 11,
     "metadata": {},
     "output_type": "execute_result"
    }
   ],
   "source": [
    "len(zergs)"
   ]
  },
  {
   "cell_type": "code",
   "execution_count": 14,
   "metadata": {
    "collapsed": false
   },
   "outputs": [],
   "source": [
    "zergs_df = pd.DataFrame(zergs)"
   ]
  },
  {
   "cell_type": "code",
   "execution_count": 15,
   "metadata": {
    "collapsed": false
   },
   "outputs": [
    {
     "data": {
      "text/plain": [
       "adept               1\n",
       "archon              2\n",
       "baneling        29907\n",
       "banshee             1\n",
       "broodling       40000\n",
       "broodlord        3342\n",
       "carrier             3\n",
       "colossus            2\n",
       "corruptor       10121\n",
       "cyclone             1\n",
       "darktemplar         2\n",
       "disruptor           1\n",
       "drone           89195\n",
       "hellion             1\n",
       "hightemplar         2\n",
       "hydralisk       28910\n",
       "immortal            2\n",
       "infestor         5650\n",
       "lurker           5480\n",
       "marauder            1\n",
       "mutalisk        22330\n",
       "nydusworm        2726\n",
       "oracle              1\n",
       "overlord        89195\n",
       "overseer        40317\n",
       "phoenix             1\n",
       "probe               7\n",
       "queen           85893\n",
       "ravager         28909\n",
       "raven               1\n",
       "roach           52677\n",
       "scv                12\n",
       "sentry              1\n",
       "siegetank           2\n",
       "spinecrawler    38519\n",
       "sporecrawler    44593\n",
       "stalker             1\n",
       "swarmhost        1100\n",
       "tempest             1\n",
       "ultralisk        8737\n",
       "viking              1\n",
       "viper            3036\n",
       "zealot              3\n",
       "zergling        82807\n",
       "dtype: int64"
      ]
     },
     "execution_count": 15,
     "metadata": {},
     "output_type": "execute_result"
    }
   ],
   "source": [
    "zergs_df.count()"
   ]
  },
  {
   "cell_type": "code",
   "execution_count": 18,
   "metadata": {
    "collapsed": true
   },
   "outputs": [],
   "source": [
    "def df_for_race_given_worker(fts, worker, alien_unit_threshold=50):\n",
    "    df = pd.DataFrame([ft for ft in fts if len(ft) > 0 and ft.get(worker) == 0])\n",
    "    alien_cols = df.columns[df.count() < alien_unit_threshold]\n",
    "    race_cols = df.columns[df.count() >= alien_unit_threshold]\n",
    "    aliens = df[alien_cols].fillna(0).sum(axis=1)\n",
    "    df2 = df[aliens == 0]\n",
    "    df2 = df2[race_cols]\n",
    "    sorted_race_cols = df2.count().sort(ascending=False, inplace=False).index\n",
    "    return df2[sorted_race_cols]"
   ]
  },
  {
   "cell_type": "code",
   "execution_count": 21,
   "metadata": {
    "collapsed": false
   },
   "outputs": [],
   "source": [
    "zerg = df_for_race_given_worker(fts, \"drone\")\n",
    "terran = df_for_race_given_worker(fts, \"scv\")\n",
    "protoss = df_for_race_given_worker(fts, \"probe\")"
   ]
  },
  {
   "cell_type": "code",
   "execution_count": 22,
   "metadata": {
    "collapsed": true
   },
   "outputs": [],
   "source": [
    "zerg.to_csv(\"processed/zerg_firsts_100k.csv\")\n",
    "terran.to_csv(\"processed/terran_firsts_100k.csv\")\n",
    "protoss.to_csv(\"processed/protoss_firsts_100k.csv\")"
   ]
  },
  {
   "cell_type": "code",
   "execution_count": 20,
   "metadata": {
    "collapsed": false
   },
   "outputs": [
    {
     "data": {
      "text/plain": [
       "overlord        89176\n",
       "drone           89176\n",
       "queen           85890\n",
       "zergling        82805\n",
       "roach           52675\n",
       "sporecrawler    44591\n",
       "overseer        40314\n",
       "broodling       39999\n",
       "spinecrawler    38517\n",
       "baneling        29907\n",
       "hydralisk       28910\n",
       "ravager         28909\n",
       "mutalisk        22330\n",
       "corruptor       10121\n",
       "ultralisk        8737\n",
       "infestor         5648\n",
       "lurker           5480\n",
       "broodlord        3342\n",
       "viper            3035\n",
       "nydusworm        2725\n",
       "swarmhost        1100\n",
       "dtype: int64"
      ]
     },
     "execution_count": 20,
     "metadata": {},
     "output_type": "execute_result"
    }
   ],
   "source": [
    "zerg.count()"
   ]
  },
  {
   "cell_type": "code",
   "execution_count": 23,
   "metadata": {
    "collapsed": false
   },
   "outputs": [
    {
     "data": {
      "text/plain": [
       "scv                  81702\n",
       "marine               76106\n",
       "medivac              53113\n",
       "siegetank            47329\n",
       "missileturret        46449\n",
       "marauder             45418\n",
       "reaper               33185\n",
       "liberator            26189\n",
       "widowmine            25266\n",
       "hellion              21646\n",
       "viking               20990\n",
       "planetaryfortress    16460\n",
       "banshee              10009\n",
       "thor                  8076\n",
       "raven                 5706\n",
       "cyclone               5445\n",
       "ghost                 3760\n",
       "battlecruiser         2575\n",
       "dtype: int64"
      ]
     },
     "execution_count": 23,
     "metadata": {},
     "output_type": "execute_result"
    }
   ],
   "source": [
    "terran.count()"
   ]
  },
  {
   "cell_type": "code",
   "execution_count": 24,
   "metadata": {
    "collapsed": false
   },
   "outputs": [
    {
     "data": {
      "text/plain": [
       "probe             69226\n",
       "stalker           52723\n",
       "mothershipcore    49901\n",
       "zealot            47142\n",
       "photoncannon      34405\n",
       "observer          34356\n",
       "adept             33897\n",
       "immortal          30349\n",
       "sentry            25034\n",
       "warpprism         21616\n",
       "voidray           15404\n",
       "hightemplar       14350\n",
       "archon            13614\n",
       "oracle            13044\n",
       "phoenix           12704\n",
       "darktemplar        9198\n",
       "colossus           7848\n",
       "disruptor          6576\n",
       "tempest            3899\n",
       "carrier            3498\n",
       "dtype: int64"
      ]
     },
     "execution_count": 24,
     "metadata": {},
     "output_type": "execute_result"
    }
   ],
   "source": [
    "protoss.count()"
   ]
  }
 ],
 "metadata": {
  "kernelspec": {
   "display_name": "Python 3",
   "language": "python",
   "name": "python3"
  },
  "language_info": {
   "codemirror_mode": {
    "name": "ipython",
    "version": 3
   },
   "file_extension": ".py",
   "mimetype": "text/x-python",
   "name": "python",
   "nbconvert_exporter": "python",
   "pygments_lexer": "ipython3",
   "version": "3.5.1"
  }
 },
 "nbformat": 4,
 "nbformat_minor": 0
}
